{
 "cells": [
  {
   "cell_type": "code",
   "execution_count": 1,
   "id": "92ee5e5d",
   "metadata": {},
   "outputs": [],
   "source": [
    "import pandas as pd\n",
    "import numpy as np\n",
    "import re\n",
    "import sqlite3"
   ]
  },
  {
   "cell_type": "code",
   "execution_count": 30,
   "id": "318d0613",
   "metadata": {},
   "outputs": [],
   "source": [
    "dd = pd.read_csv('DataDict.csv')\n",
    "df = pd.read_csv('WDICSV.csv')\n",
    "country = pd.read_excel('WDI_Country.xlsx')\n",
    "gdp = df[df['Indicator Code'].isin(['NY.GDP.MKTP.CD'])]\n",
    "gdp = gdp.drop(['Country Code', 'Indicator Name', 'Indicator Code'], axis=1)\n",
    "gdp = gdp.melt(id_vars=[\"Country Name\"], var_name=\"Year\", value_name=\"gdp\")\n",
    "\n",
    "imp = df[df['Indicator Code'].isin(['NE.IMP.GNFS.CD'])]\n",
    "imp = imp.drop(['Country Code', 'Indicator Name', 'Indicator Code'], axis=1)\n",
    "imp = imp.melt(id_vars=[\"Country Name\"], var_name=\"Year\", value_name=\"imp\")\n",
    "\n",
    "gdp_cn = df[df['Indicator Code'].isin(['NY.GDP.MKTP.CN'])]\n",
    "gdp_cn = gdp_cn.drop(['Country Code', 'Indicator Name', 'Indicator Code'], axis=1)\n",
    "gdp_cn = gdp_cn.melt(id_vars=[\"Country Name\"], var_name=\"Year\", value_name=\"gdp_cn\")\n",
    "\n",
    "df = df[df['Indicator Code'].isin(dd['Code in Source'])]\n",
    "\n",
    "vlist = []\n",
    "\n",
    "for i in dd.index:\n",
    "    v = dd.loc[i, 'Variable']\n",
    "    code = dd.loc[i, 'Code in Source']\n",
    "    f = dd.loc[i, 'Formula']\n",
    "    if pd.isnull(dd.loc[i, 'Decimal Places']):\n",
    "        d = None\n",
    "    else:\n",
    "        d = int(dd.loc[i, 'Decimal Places'])\n",
    "        \n",
    "    dt = df[df['Indicator Code'] == code]\n",
    "    dt = dt.drop(['Country Code', 'Indicator Name', 'Indicator Code'], axis=1)\n",
    "    dt = dt.melt(id_vars=[\"Country Name\"], var_name=\"Year\", value_name=\"val\")\n",
    "    \n",
    "    if pd.isnull(f):\n",
    "        pass\n",
    "    elif f == \"%'NE.IMP.GNFS.CD'\":\n",
    "        dt = dt.merge(imp, on=['Country Name', 'Year'], how='left')\n",
    "        dt['val'] = dt['val'] / dt['imp'] * 100\n",
    "        dt = dt.drop(['imp'], axis=1)\n",
    "    elif f == \"%'NY.GDP.MKTP.CN'\":\n",
    "        dt = dt.merge(gdp_cn, on=['Country Name', 'Year'], how='left')\n",
    "        dt['val'] = dt['val'] / dt['gdp_cn'] * 100\n",
    "        dt = dt.drop(['gdp_cn'], axis=1)\n",
    "    elif f == '/1000000000':\n",
    "        dt['val'] = dt['val'] / 1_000_000_000\n",
    "    elif f == '/1000000':\n",
    "        dt['val'] = dt['val'] / 1_000_000\n",
    "    else:\n",
    "        dt = dt.merge(gdp, on=['Country Name', 'Year'], how='left')\n",
    "        dt['val'] = dt['val'] / dt['gdp'] * 100\n",
    "        dt = dt.drop(['gdp'], axis=1)\n",
    "        \n",
    "    if d is not None:\n",
    "        dt['val'] = dt['val'].round(d)\n",
    "        \n",
    "    n = 'Country Name'\n",
    "    y = 'Year'\n",
    "    \n",
    "    first_last = dt.sort_values([n, y]).groupby(n)['val'].agg(['first', 'last']).reset_index()\n",
    "    first_last = first_last.rename(columns={\"first\": \"Earliest\", \"last\": \"MostRecent\"})\n",
    "    \n",
    "    dt[y] = pd.to_numeric(dt[y], errors='coerce')\n",
    "    \n",
    "    dt = dt.pivot_table(index=n, columns=y, values='val').reset_index()\n",
    "    \n",
    "    year_cols = sorted([col for col in dt.columns if isinstance(col, (int, float)) or re.match(r\"^\\d{4}$\", str(col))], key=lambda x: int(x))\n",
    "    non_year_cols = [col for col in dt.columns if col not in year_cols + [n]]\n",
    "    dt = dt[[n] + year_cols + non_year_cols]\n",
    "\n",
    "    dt = dt.merge(first_last, on=n, how='left')\n",
    "    \n",
    "    dt = country.merge(dt, on=n, how='left')\n",
    "    \n",
    "    dt = dt.drop(columns=n)\n",
    "    \n",
    "    dt['Variable'] = v\n",
    "    \n",
    "    vlist.append(dt)\n",
    "\n",
    "final_df = pd.concat(vlist, ignore_index=True)\n",
    "\n",
    "year_cols = [col for col in final_df.columns if re.match(r\"^\\d{4}$\", str(col))]\n",
    "year_cols = sorted(year_cols, key=int)\n",
    "\n",
    "meta_cols = ['Earliest', 'MostRecent', 'Variable']\n",
    "\n",
    "other_cols = [col for col in final_df.columns if col not in year_cols + meta_cols]\n",
    "\n",
    "final_order = other_cols + year_cols + meta_cols\n",
    "\n",
    "final_df = final_df[final_order]\n",
    "\n",
    "final_df.to_csv('IFsImportwdi.csv', index=False)"
   ]
  },
  {
   "cell_type": "code",
   "execution_count": 5,
   "id": "75feae44",
   "metadata": {},
   "outputs": [
    {
     "name": "stdout",
     "output_type": "stream",
     "text": [
      "Processing table for Variable: ArmsImp%TotImp\n",
      "Processing table for Variable: XDebtPNG%GDP\n",
      "Processing table for Variable: XDebtPPG%GDP\n",
      "Processing table for Variable: XFlowsIDA%GDP\n",
      "Processing table for Variable: XFlowsIMFNonCon%GDP\n",
      "Processing table for Variable: XIMFCredit%GDP\n",
      "Processing table for Variable: XIncPayments%GDP\n",
      "Processing table for Variable: XPortBonds%GDP\n",
      "Processing table for Variable: XPortEquity%GDP\n",
      "Processing table for Variable: XReserves%GDP\n",
      "Processing table for Variable: XFlowsIMFCon%GDP\n",
      "Processing table for Variable: XIncReceipts%GDP\n",
      "Processing table for Variable: XFlowsIBRD%GDP\n",
      "Processing table for Variable: XWBLoans%GDP\n",
      "Processing table for Variable: GovtCurRev%GDP\n",
      "Processing table for Variable: ExportServices%GDP\n",
      "Processing table for Variable: ExportsMerchandise%GDP\n",
      "Processing table for Variable: ImportServices%GDP\n",
      "Processing table for Variable: ImportsMerchandise%GDP\n",
      "Processing table for Variable: XWorkerRemitPaid%GDP\n",
      "Processing table for Variable: XWorkerRemitReceived%GDP\n",
      "Processing table for Variable: XDebt%GDP\n",
      "Processing table for Variable: NetForeignAssets%GDP\n",
      "Processing table for Variable: Labor\n",
      "Processing table for Variable: PopulationUrban\n",
      "Processing table for Variable: GDPCurDol\n",
      "Processing table for Variable: XDebt\n",
      "Processing table for Variable: LaborFemale%\n",
      "Processing table for Variable: LaborSecInd%Tot\n",
      "Processing table for Variable: LaborSecSer%Tot\n",
      "Processing table for Variable: VaddInd%\n",
      "Processing table for Variable: OresMetsIm%MerchIm\n",
      "Processing table for Variable: GovtDebt%GDP\n",
      "Processing table for Variable: VaddMan%\n",
      "Processing table for Variable: PopForeign%\n",
      "Processing table for Variable: LaborAgriSector\n",
      "Processing table for Variable: GenderUnpaidDomesticWorkTimeFemale\n",
      "Processing table for Variable: GenderUnpaidDomesticWorkTimeMale\n",
      "Processing table for Variable: IncBelow2D15c%\n",
      "Processing table for Variable: IncBelow3D65c%\n",
      "Processing table for Variable: IncBelow6D85c%\n",
      "Processing table for Variable: PovGap2D15cperDay\n",
      "Processing table for Variable: PovGap3D65perDay\n",
      "Processing table for Variable: PovGap6D85cperDay\n",
      "Processing table for Variable: ExportGoodSer%\n",
      "Processing table for Variable: EnElecTransLoss%\n",
      "Processing table for Variable: GovtEdPub%GDP\n",
      "Processing table for Variable: GovWBDoingBusinessCostofStarting\n",
      "Processing table for Variable: GovtMil%GDPWDI\n",
      "Processing table for Variable: GovCon%GDP\n",
      "Processing table for Variable: GovExpense%GDP\n",
      "Processing table for Variable: ImportGoodSer%\n",
      "Processing table for Variable: EnElecConsPerCap\n",
      "Processing table for Variable: InvestGrCapForm%GDP\n",
      "Processing table for Variable: XFDIInflows%GDP\n",
      "Processing table for Variable: XFDIOutflows%GDP\n",
      "Processing table for Variable: IncShareL20%\n",
      "Processing table for Variable: LaborUnemploy%\n",
      "Processing table for Variable: TaxImportDuties%Rev\n",
      "Processing table for Variable: OresMetsEx%MerchEx\n",
      "Processing table for Variable: PopContrUse%WDI\n",
      "Processing table for Variable: EnElecAccess%National\n",
      "Processing table for Variable: EnElecAccess%Rural\n",
      "Processing table for Variable: EnElecAccess%Urban\n",
      "Processing table for Variable: MalnChil%WeightWB\n",
      "Processing table for Variable: TaxGoodSer%CurRev\n",
      "Processing table for Variable: TaxSocSec%CurRev\n",
      "Processing table for Variable: GiniExtended\n",
      "Processing table for Variable: ICTInternet%Pop\n",
      "Processing table for Variable: LaborAgr%TotFemale\n",
      "Processing table for Variable: VaddAg%\n",
      "Processing table for Variable: VaddSer%\n",
      "Processing table for Variable: LaborAgr%TotMale\n",
      "Processing table for Variable: XCurActBal%GDP\n",
      "Processing table for Variable: MaternalMortalityRatio\n",
      "Processing table for Variable: EnvPMWDI\n",
      "Processing table for Variable: ChildStuntingPercentWDI\n",
      "Processing table for Variable: HealthMalarBedNetsWDI\n",
      "Processing table for Variable: AidRecGrant%TotRev\n",
      "Processing table for Variable: IncBelowNPL%WDI\n",
      "Processing table for Variable: ICTImport%Imp\n",
      "Processing table for Variable: ICTExport%Exp\n"
     ]
    }
   ],
   "source": [
    "dd = pd.read_csv('DataDict.csv')\n",
    "conn = sqlite3.connect(r'C:\\IFs\\RUNFILES\\IFsDataImport - Copy (5).db')\n",
    "cursor = conn.cursor()\n",
    "final_df = pd.read_csv(\"IFsImportwdi.csv\")\n",
    "\n",
    "for tb in dd.Table:\n",
    "    v = tb.replace(\"Series\", \"\").replace(\"Rev23\", \"\")\n",
    "    print(f\"Processing table for Variable: {v}\")\n",
    "    dt = final_df[final_df['Variable'] == v]\n",
    "    dt = dt.drop(columns=['Variable'])\n",
    "    sql_drop_table = f\"DROP TABLE IF EXISTS [{tb}];\"\n",
    "    cursor.execute(sql_drop_table)\n",
    "    sql_create_table = f\"CREATE TABLE [{tb}] (Country VARCHAR(255), FIPS_CODE VARCHAR(255), \"\n",
    "    for c in dt.columns[2:]: \n",
    "        sql_create_table += f\"[{c}] DOUBLE(53), \"\n",
    "    sql_create_table = sql_create_table.rstrip(\", \") + \");\"\n",
    "\n",
    "    cursor.execute(sql_create_table)\n",
    "    dt.to_sql(name=tb, con=conn, if_exists='append', index=False)\n",
    "\n",
    "    conn.commit()\n",
    "dd.to_sql(name='DataDict', con=conn, if_exists='replace', index=False)\n",
    "\n",
    "conn.close()\n"
   ]
  },
  {
   "cell_type": "code",
   "execution_count": null,
   "id": "e6ac48aa",
   "metadata": {},
   "outputs": [
    {
     "name": "stdout",
     "output_type": "stream",
     "text": [
      "Processing table: SeriesArmsImp%TotImp\n",
      "Processing table: SeriesXDebtPNG%GDP\n",
      "Processing table: SeriesXDebtPPG%GDP\n",
      "Processing table: SeriesXFlowsIDA%GDP\n",
      "Processing table: SeriesXFlowsIMFNonCon%GDP\n",
      "Processing table: SeriesXIMFCredit%GDP\n",
      "Processing table: SeriesXIncPayments%GDP\n",
      "Processing table: SeriesXPortBonds%GDP\n",
      "Processing table: SeriesXPortEquity%GDP\n",
      "Processing table: SeriesXReserves%GDP\n",
      "Processing table: SeriesXFlowsIMFCon%GDP\n",
      "Processing table: SeriesXIncReceipts%GDP\n",
      "Processing table: SeriesXFlowsIBRD%GDP\n",
      "Processing table: SeriesXWBLoans%GDP\n",
      "Processing table: SeriesGovtCurRev%GDP\n"
     ]
    },
    {
     "name": "stderr",
     "output_type": "stream",
     "text": [
      "C:\\Users\\Norah\\AppData\\Local\\Temp\\ipykernel_6604\\321968131.py:36: FutureWarning: The behavior of array concatenation with empty entries is deprecated. In a future version, this will no longer exclude empty items when determining the result dtype. To retain the old behavior, exclude the empty entries before the concat operation.\n",
      "  df_wdi[col] = df_wdi[col].combine_first(df_ifs[col])\n"
     ]
    },
    {
     "name": "stdout",
     "output_type": "stream",
     "text": [
      "Processing table: SeriesExportServices%GDP\n",
      "Processing table: SeriesExportsMerchandise%GDP\n",
      "Processing table: SeriesImportServices%GDP\n",
      "Processing table: SeriesImportsMerchandise%GDP\n",
      "Processing table: SeriesXWorkerRemitPaid%GDP\n",
      "Processing table: SeriesXWorkerRemitReceived%GDP\n",
      "Processing table: SeriesXDebt%GDP\n",
      "Processing table: SeriesNetForeignAssets%GDP\n",
      "Processing table: SeriesLabor\n",
      "Processing table: SeriesPopulationUrban\n"
     ]
    },
    {
     "name": "stderr",
     "output_type": "stream",
     "text": [
      "C:\\Users\\Norah\\AppData\\Local\\Temp\\ipykernel_6604\\321968131.py:36: FutureWarning: The behavior of array concatenation with empty entries is deprecated. In a future version, this will no longer exclude empty items when determining the result dtype. To retain the old behavior, exclude the empty entries before the concat operation.\n",
      "  df_wdi[col] = df_wdi[col].combine_first(df_ifs[col])\n"
     ]
    },
    {
     "name": "stdout",
     "output_type": "stream",
     "text": [
      "Processing table: SeriesGDPCurDol\n",
      "Processing table: SeriesXDebt\n"
     ]
    },
    {
     "name": "stderr",
     "output_type": "stream",
     "text": [
      "C:\\Users\\Norah\\AppData\\Local\\Temp\\ipykernel_6604\\321968131.py:36: FutureWarning: The behavior of array concatenation with empty entries is deprecated. In a future version, this will no longer exclude empty items when determining the result dtype. To retain the old behavior, exclude the empty entries before the concat operation.\n",
      "  df_wdi[col] = df_wdi[col].combine_first(df_ifs[col])\n",
      "C:\\Users\\Norah\\AppData\\Local\\Temp\\ipykernel_6604\\321968131.py:36: FutureWarning: The behavior of array concatenation with empty entries is deprecated. In a future version, this will no longer exclude empty items when determining the result dtype. To retain the old behavior, exclude the empty entries before the concat operation.\n",
      "  df_wdi[col] = df_wdi[col].combine_first(df_ifs[col])\n"
     ]
    },
    {
     "name": "stdout",
     "output_type": "stream",
     "text": [
      "Processing table: SeriesLaborFemale%\n",
      "Processing table: SeriesLaborSecInd%Tot\n"
     ]
    },
    {
     "name": "stderr",
     "output_type": "stream",
     "text": [
      "C:\\Users\\Norah\\AppData\\Local\\Temp\\ipykernel_6604\\321968131.py:36: FutureWarning: The behavior of array concatenation with empty entries is deprecated. In a future version, this will no longer exclude empty items when determining the result dtype. To retain the old behavior, exclude the empty entries before the concat operation.\n",
      "  df_wdi[col] = df_wdi[col].combine_first(df_ifs[col])\n"
     ]
    },
    {
     "name": "stdout",
     "output_type": "stream",
     "text": [
      "Processing table: SeriesLaborSecSer%Tot\n",
      "Processing table: SeriesVaddInd%\n"
     ]
    },
    {
     "name": "stderr",
     "output_type": "stream",
     "text": [
      "C:\\Users\\Norah\\AppData\\Local\\Temp\\ipykernel_6604\\321968131.py:36: FutureWarning: The behavior of array concatenation with empty entries is deprecated. In a future version, this will no longer exclude empty items when determining the result dtype. To retain the old behavior, exclude the empty entries before the concat operation.\n",
      "  df_wdi[col] = df_wdi[col].combine_first(df_ifs[col])\n"
     ]
    },
    {
     "name": "stdout",
     "output_type": "stream",
     "text": [
      "Processing table: SeriesOresMetsIm%MerchIm\n",
      "Processing table: SeriesGovtDebt%GDP\n",
      "Processing table: SeriesVaddMan%\n",
      "Processing table: SeriesPopForeign%\n",
      "Processing table: SeriesLaborAgriSector\n"
     ]
    },
    {
     "name": "stderr",
     "output_type": "stream",
     "text": [
      "C:\\Users\\Norah\\AppData\\Local\\Temp\\ipykernel_6604\\321968131.py:36: FutureWarning: The behavior of array concatenation with empty entries is deprecated. In a future version, this will no longer exclude empty items when determining the result dtype. To retain the old behavior, exclude the empty entries before the concat operation.\n",
      "  df_wdi[col] = df_wdi[col].combine_first(df_ifs[col])\n",
      "C:\\Users\\Norah\\AppData\\Local\\Temp\\ipykernel_6604\\321968131.py:36: FutureWarning: The behavior of array concatenation with empty entries is deprecated. In a future version, this will no longer exclude empty items when determining the result dtype. To retain the old behavior, exclude the empty entries before the concat operation.\n",
      "  df_wdi[col] = df_wdi[col].combine_first(df_ifs[col])\n"
     ]
    },
    {
     "name": "stdout",
     "output_type": "stream",
     "text": [
      "Processing table: SeriesGenderUnpaidDomesticWorkTimeFemale\n",
      "Processing table: SeriesGenderUnpaidDomesticWorkTimeMale\n",
      "Processing table: SeriesIncBelow2D15c%\n",
      "Processing table: SeriesIncBelow3D65c%\n",
      "Processing table: SeriesIncBelow6D85c%\n",
      "Processing table: SeriesPovGap2D15cperDay\n",
      "Processing table: SeriesPovGap3D65perDay\n",
      "Processing table: SeriesPovGap6D85cperDay\n",
      "Processing table: SeriesExportGoodSer%\n",
      "Processing table: SeriesEnElecTransLoss%\n"
     ]
    },
    {
     "name": "stderr",
     "output_type": "stream",
     "text": [
      "C:\\Users\\Norah\\AppData\\Local\\Temp\\ipykernel_6604\\321968131.py:36: FutureWarning: The behavior of array concatenation with empty entries is deprecated. In a future version, this will no longer exclude empty items when determining the result dtype. To retain the old behavior, exclude the empty entries before the concat operation.\n",
      "  df_wdi[col] = df_wdi[col].combine_first(df_ifs[col])\n"
     ]
    },
    {
     "name": "stdout",
     "output_type": "stream",
     "text": [
      "Processing table: SeriesGovtEdPub%GDP\n",
      "Processing table: SeriesGovWBDoingBusinessCostofStarting\n"
     ]
    },
    {
     "name": "stderr",
     "output_type": "stream",
     "text": [
      "C:\\Users\\Norah\\AppData\\Local\\Temp\\ipykernel_6604\\321968131.py:36: FutureWarning: The behavior of array concatenation with empty entries is deprecated. In a future version, this will no longer exclude empty items when determining the result dtype. To retain the old behavior, exclude the empty entries before the concat operation.\n",
      "  df_wdi[col] = df_wdi[col].combine_first(df_ifs[col])\n"
     ]
    },
    {
     "name": "stdout",
     "output_type": "stream",
     "text": [
      "Processing table: SeriesGovtMil%GDPWDI\n",
      "Processing table: SeriesGovCon%GDP\n",
      "Processing table: SeriesGovExpense%GDP\n",
      "Processing table: SeriesImportGoodSer%\n",
      "Processing table: SeriesEnElecConsPerCap\n"
     ]
    },
    {
     "name": "stderr",
     "output_type": "stream",
     "text": [
      "C:\\Users\\Norah\\AppData\\Local\\Temp\\ipykernel_6604\\321968131.py:36: FutureWarning: The behavior of array concatenation with empty entries is deprecated. In a future version, this will no longer exclude empty items when determining the result dtype. To retain the old behavior, exclude the empty entries before the concat operation.\n",
      "  df_wdi[col] = df_wdi[col].combine_first(df_ifs[col])\n"
     ]
    },
    {
     "name": "stdout",
     "output_type": "stream",
     "text": [
      "Processing table: SeriesInvestGrCapForm%GDP\n",
      "Processing table: SeriesXFDIInflows%GDP\n",
      "Processing table: SeriesXFDIOutflows%GDP\n",
      "Processing table: SeriesIncShareL20%\n",
      "Processing table: SeriesLaborUnemploy%\n",
      "Processing table: SeriesTaxImportDuties%Rev\n",
      "Processing table: SeriesOresMetsEx%MerchEx\n",
      "Processing table: SeriesPopContrUse%WDI\n",
      "Processing table: SeriesEnElecAccess%National\n",
      "Processing table: SeriesEnElecAccess%Rural\n",
      "Processing table: SeriesEnElecAccess%Urban\n",
      "Processing table: SeriesMalnChil%WeightWB\n"
     ]
    },
    {
     "name": "stderr",
     "output_type": "stream",
     "text": [
      "C:\\Users\\Norah\\AppData\\Local\\Temp\\ipykernel_6604\\321968131.py:36: FutureWarning: The behavior of array concatenation with empty entries is deprecated. In a future version, this will no longer exclude empty items when determining the result dtype. To retain the old behavior, exclude the empty entries before the concat operation.\n",
      "  df_wdi[col] = df_wdi[col].combine_first(df_ifs[col])\n"
     ]
    },
    {
     "name": "stdout",
     "output_type": "stream",
     "text": [
      "Processing table: SeriesTaxGoodSer%CurRev\n",
      "Processing table: SeriesTaxSocSec%CurRev\n",
      "Processing table: SeriesGiniExtended\n",
      "Processing table: SeriesICTInternet%Pop\n"
     ]
    },
    {
     "name": "stderr",
     "output_type": "stream",
     "text": [
      "C:\\Users\\Norah\\AppData\\Local\\Temp\\ipykernel_6604\\321968131.py:36: FutureWarning: The behavior of array concatenation with empty entries is deprecated. In a future version, this will no longer exclude empty items when determining the result dtype. To retain the old behavior, exclude the empty entries before the concat operation.\n",
      "  df_wdi[col] = df_wdi[col].combine_first(df_ifs[col])\n",
      "C:\\Users\\Norah\\AppData\\Local\\Temp\\ipykernel_6604\\321968131.py:36: FutureWarning: The behavior of array concatenation with empty entries is deprecated. In a future version, this will no longer exclude empty items when determining the result dtype. To retain the old behavior, exclude the empty entries before the concat operation.\n",
      "  df_wdi[col] = df_wdi[col].combine_first(df_ifs[col])\n",
      "C:\\Users\\Norah\\AppData\\Local\\Temp\\ipykernel_6604\\321968131.py:36: FutureWarning: The behavior of array concatenation with empty entries is deprecated. In a future version, this will no longer exclude empty items when determining the result dtype. To retain the old behavior, exclude the empty entries before the concat operation.\n",
      "  df_wdi[col] = df_wdi[col].combine_first(df_ifs[col])\n",
      "C:\\Users\\Norah\\AppData\\Local\\Temp\\ipykernel_6604\\321968131.py:36: FutureWarning: The behavior of array concatenation with empty entries is deprecated. In a future version, this will no longer exclude empty items when determining the result dtype. To retain the old behavior, exclude the empty entries before the concat operation.\n",
      "  df_wdi[col] = df_wdi[col].combine_first(df_ifs[col])\n",
      "C:\\Users\\Norah\\AppData\\Local\\Temp\\ipykernel_6604\\321968131.py:36: FutureWarning: The behavior of array concatenation with empty entries is deprecated. In a future version, this will no longer exclude empty items when determining the result dtype. To retain the old behavior, exclude the empty entries before the concat operation.\n",
      "  df_wdi[col] = df_wdi[col].combine_first(df_ifs[col])\n"
     ]
    },
    {
     "name": "stdout",
     "output_type": "stream",
     "text": [
      "Processing table: SeriesLaborAgr%TotFemale\n",
      "Processing table: SeriesVaddAg%\n",
      "Processing table: SeriesVaddSer%\n",
      "Processing table: SeriesLaborAgr%TotMale\n"
     ]
    },
    {
     "name": "stderr",
     "output_type": "stream",
     "text": [
      "C:\\Users\\Norah\\AppData\\Local\\Temp\\ipykernel_6604\\321968131.py:36: FutureWarning: The behavior of array concatenation with empty entries is deprecated. In a future version, this will no longer exclude empty items when determining the result dtype. To retain the old behavior, exclude the empty entries before the concat operation.\n",
      "  df_wdi[col] = df_wdi[col].combine_first(df_ifs[col])\n"
     ]
    },
    {
     "name": "stdout",
     "output_type": "stream",
     "text": [
      "Processing table: SeriesXCurActBal%GDP\n",
      "Processing table: SeriesMaternalMortalityRatio\n",
      "Processing table: SeriesEnvPMWDI\n",
      "Processing table: SeriesChildStuntingPercentWDI\n",
      "Processing table: SeriesHealthMalarBedNetsWDI\n",
      "Processing table: SeriesAidRecGrant%TotRev\n",
      "Processing table: SeriesIncBelowNPL%WDI\n",
      "Processing table: SeriesICTImport%Imp\n"
     ]
    },
    {
     "name": "stderr",
     "output_type": "stream",
     "text": [
      "C:\\Users\\Norah\\AppData\\Local\\Temp\\ipykernel_6604\\321968131.py:36: FutureWarning: The behavior of array concatenation with empty entries is deprecated. In a future version, this will no longer exclude empty items when determining the result dtype. To retain the old behavior, exclude the empty entries before the concat operation.\n",
      "  df_wdi[col] = df_wdi[col].combine_first(df_ifs[col])\n",
      "C:\\Users\\Norah\\AppData\\Local\\Temp\\ipykernel_6604\\321968131.py:36: FutureWarning: The behavior of array concatenation with empty entries is deprecated. In a future version, this will no longer exclude empty items when determining the result dtype. To retain the old behavior, exclude the empty entries before the concat operation.\n",
      "  df_wdi[col] = df_wdi[col].combine_first(df_ifs[col])\n"
     ]
    },
    {
     "name": "stdout",
     "output_type": "stream",
     "text": [
      "Processing table: SeriesICTExport%Exp\n"
     ]
    },
    {
     "name": "stderr",
     "output_type": "stream",
     "text": [
      "C:\\Users\\Norah\\AppData\\Local\\Temp\\ipykernel_6604\\321968131.py:36: FutureWarning: The behavior of array concatenation with empty entries is deprecated. In a future version, this will no longer exclude empty items when determining the result dtype. To retain the old behavior, exclude the empty entries before the concat operation.\n",
      "  df_wdi[col] = df_wdi[col].combine_first(df_ifs[col])\n"
     ]
    }
   ],
   "source": [
    "ifshist_path_old = r\"C:\\IFs\\DATA\\IFsHistSeries.db\"\n",
    "\n",
    "with sqlite3.connect(r\"C:\\IFs\\RUNFILES\\IFsDataImport - Copy (5).db\", timeout=30) as conn_wdi, \\\n",
    "     sqlite3.connect(ifshist_path_old, timeout=30) as conn_ifs_old:\n",
    "\n",
    "    dd_wdi = pd.read_sql_query(\"SELECT * FROM [DataDict]\", conn_wdi)\n",
    "    cursor_wdi = conn_wdi.cursor()\n",
    "\n",
    "    for tb in dd_wdi[\"Table\"]:\n",
    "        print(f\"Processing table: {tb}\")\n",
    "\n",
    "        df_wdi = pd.read_sql_query(f\"SELECT * FROM [{tb}]\", conn_wdi)\n",
    "        df_ifs = pd.read_sql_query(f\"SELECT * FROM [{tb}]\", conn_ifs_old)\n",
    "        df_wdi = df_wdi.sort_values(by=\"Country\").reset_index(drop=True)\n",
    "        df_ifs = df_ifs.sort_values(by=\"Country\").reset_index(drop=True)\n",
    "\n",
    "        all_cols = df_wdi.columns.tolist()\n",
    "        if not set(all_cols).issuperset(df_ifs.columns):\n",
    "            for c in df_ifs.columns:\n",
    "                if c not in df_wdi.columns:\n",
    "                    df_wdi[c] = np.nan\n",
    "\n",
    "        df_wdi.set_index([\"Country\", \"FIPS_CODE\"], inplace=True)\n",
    "        df_ifs.set_index([\"Country\", \"FIPS_CODE\"], inplace=True)\n",
    "\n",
    "        for col in df_wdi.columns:\n",
    "            if col in df_ifs.columns:\n",
    "                df_wdi[col] = df_wdi[col].combine_first(df_ifs[col])\n",
    "\n",
    "        df_wdi.reset_index(inplace=True)\n",
    "\n",
    "        data_cols = [c for c in df_wdi.columns if c not in [\"Country\", \"FIPS_CODE\", \"Earliest\", \"MostRecent\"]]\n",
    "\n",
    "        Ear = []\n",
    "        Rec = []\n",
    "        for i in range(df_wdi.shape[0]):\n",
    "            row_vals = df_wdi.loc[i, data_cols].dropna()\n",
    "            Ear.append(row_vals.values[0] if not row_vals.empty else np.nan)\n",
    "            Rec.append(row_vals.values[-1] if not row_vals.empty else np.nan)\n",
    "\n",
    "        df_wdi[\"Earliest\"] = Ear\n",
    "        df_wdi[\"MostRecent\"] = Rec\n",
    "\n",
    "        cursor_wdi.execute(f\"DELETE FROM [{tb}];\")\n",
    "        df_wdi.to_sql(name=tb, con=conn_wdi, if_exists=\"append\", index=False)\n",
    "\n",
    "    conn_wdi.commit()\n"
   ]
  },
  {
   "cell_type": "code",
   "execution_count": 37,
   "id": "b11debfc",
   "metadata": {},
   "outputs": [],
   "source": [
    "conn.close()\n"
   ]
  }
 ],
 "metadata": {
  "kernelspec": {
   "display_name": "Python 3",
   "language": "python",
   "name": "python3"
  },
  "language_info": {
   "codemirror_mode": {
    "name": "ipython",
    "version": 3
   },
   "file_extension": ".py",
   "mimetype": "text/x-python",
   "name": "python",
   "nbconvert_exporter": "python",
   "pygments_lexer": "ipython3",
   "version": "3.13.5"
  }
 },
 "nbformat": 4,
 "nbformat_minor": 5
}
